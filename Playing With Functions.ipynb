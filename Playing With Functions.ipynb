{
 "cells": [
  {
   "cell_type": "markdown",
   "metadata": {},
   "source": [
    "### 1\n",
    "circumference of a circle = 2πr\n",
    "area of a circle = πr^2\n",
    "\n",
    "1. ask for circumference\n",
    "2. solve radius: divide the circumference by 2π\n",
    "3. solve area: square r then times 2\n",
    "4. display area"
   ]
  },
  {
   "cell_type": "code",
   "execution_count": 1,
   "metadata": {},
   "outputs": [],
   "source": [
    "def solve_radius (circumference):\n",
    "    radius = circumference / (2*3.1416)\n",
    "    return radius\n",
    "    \n",
    "def solve_area (radius):\n",
    "    area = 3.1416 * (radius * radius)\n",
    "    return area"
   ]
  },
  {
   "cell_type": "code",
   "execution_count": 2,
   "metadata": {},
   "outputs": [
    {
     "name": "stdout",
     "output_type": "stream",
     "text": [
      "What is the circumference of a circle? 20\n",
      "The area is  31.830914183855363\n"
     ]
    }
   ],
   "source": [
    "# ask for circumference\n",
    "circumference = float(input(\"What is the circumference of a circle? \"))\n",
    "\n",
    "# solve radius\n",
    "radius = solve_radius (circumference)\n",
    "\n",
    "# solve area\n",
    "area = solve_area (radius)\n",
    "\n",
    "# display area\n",
    "print(\"The area is \", area)"
   ]
  },
  {
   "cell_type": "markdown",
   "metadata": {},
   "source": [
    "### 2\n",
    "1. enter word\n",
    "2. count characters\n",
    "3. if not 5, cant reverse\n",
    "4. if 5, reverse\n",
    "5. display output"
   ]
  },
  {
   "cell_type": "code",
   "execution_count": 3,
   "metadata": {},
   "outputs": [],
   "source": [
    "def count_characters (word):\n",
    "    characters = len(word)\n",
    "    return characters\n",
    "\n",
    "def reverse_word (word):\n",
    "    r = reversed(word)\n",
    "    return r"
   ]
  },
  {
   "cell_type": "code",
   "execution_count": 4,
   "metadata": {},
   "outputs": [
    {
     "name": "stdout",
     "output_type": "stream",
     "text": [
      "Enter word: Hello\n",
      "o l l e H\n"
     ]
    }
   ],
   "source": [
    "# enter word\n",
    "word = str(input(\"Enter word: \"))\n",
    "\n",
    "# count characters\n",
    "characters = count_characters (word)\n",
    "\n",
    "# reverse the word\n",
    "r = reversed(word)\n",
    "\n",
    "# equal to five or not\n",
    "if characters == 5:\n",
    "    print(*r)\n",
    "else:\n",
    "    print(\"This word cant be reversed\")"
   ]
  },
  {
   "cell_type": "markdown",
   "metadata": {},
   "source": [
    "### 3\n",
    "1. input number\n",
    "2. get list of positive number only then add"
   ]
  },
  {
   "cell_type": "code",
   "execution_count": 5,
   "metadata": {},
   "outputs": [
    {
     "name": "stdout",
     "output_type": "stream",
     "text": [
      "Enter any positive value: 5\n",
      "The sum is  15\n"
     ]
    }
   ],
   "source": [
    "# input number\n",
    "number = int(input(\"Enter any positive value: \"))\n",
    "\n",
    "#get list of positive only then add\n",
    "if number > 0:\n",
    "    range(1, number + 1, 1)\n",
    "    total = sum(range(1, number + 1, 1))\n",
    "    print(\"The sum is \", total)\n",
    "else:\n",
    "    print(\"This is either zero or a negative number.\")"
   ]
  },
  {
   "cell_type": "markdown",
   "metadata": {},
   "source": [
    "### 4\n",
    "1. get list of all natural number\n",
    "2. get sum of squares\n",
    "3. get square of sum\n",
    "4. get difference"
   ]
  },
  {
   "cell_type": "code",
   "execution_count": 8,
   "metadata": {},
   "outputs": [],
   "source": [
    "def sum_square (number):\n",
    "    sumsquare = sum([i**2 for i in number])\n",
    "    return sumsquare\n",
    "    \n",
    "def square_sum (numbers):\n",
    "    squaresum = sum(number)*sum(number)\n",
    "    return squaresum"
   ]
  },
  {
   "cell_type": "code",
   "execution_count": 9,
   "metadata": {},
   "outputs": [
    {
     "name": "stdout",
     "output_type": "stream",
     "text": [
      "The answer is 25164150\n"
     ]
    }
   ],
   "source": [
    "# get all natural numbers from 1-100\n",
    "number = range(1,101)\n",
    "\n",
    "# get sum of squares\n",
    "sumsquare = sum_square (number)\n",
    "\n",
    "# get square of sum\n",
    "squaresum = square_sum (number)\n",
    "\n",
    "# get difference\n",
    "answer = squaresum-sumsquare\n",
    "\n",
    "print(\"The answer is\", answer)"
   ]
  },
  {
   "cell_type": "markdown",
   "metadata": {},
   "source": [
    "### 5\n",
    "1. input money\n",
    "2. get all one pesos possible\n",
    "3. get all twenty five cents possible\n",
    "4. get all ten cents possible\n",
    "5. get all five cents possible\n",
    "6. get all one cents possible\n",
    "7. display output"
   ]
  },
  {
   "cell_type": "code",
   "execution_count": 11,
   "metadata": {},
   "outputs": [
    {
     "name": "stdout",
     "output_type": "stream",
     "text": [
      "Input money: 69\n",
      "0\n",
      "2\n",
      "1\n",
      "1\n",
      "4\n"
     ]
    }
   ],
   "source": [
    "import math\n",
    "\n",
    "coin = int(input(\"Input money: \"))\n",
    "\n",
    "\n",
    "onepeso = 0\n",
    "twentyfivecents = 0\n",
    "tencents = 0\n",
    "fivecents = 0\n",
    "onecent = 0\n",
    "\n",
    "onepeso = coin/100\n",
    "coin %= 100\n",
    "\n",
    "twentyfivecents = coin/25 \n",
    "coin %= 25\n",
    "\n",
    "tencents = coin/10 \n",
    "coin %= 10\n",
    "\n",
    "fivecents = coin/5 \n",
    "coin %= 5\n",
    "\n",
    "onecent = coin\n",
    "\n",
    "\n",
    "print (int(onepeso))\n",
    "print (int(twentyfivecents))\n",
    "print (int(tencents))\n",
    "print (int(fivecents))\n",
    "print (int(onecent))"
   ]
  },
  {
   "cell_type": "code",
   "execution_count": null,
   "metadata": {},
   "outputs": [],
   "source": []
  }
 ],
 "metadata": {
  "kernelspec": {
   "display_name": "Python 3",
   "language": "python",
   "name": "python3"
  },
  "language_info": {
   "codemirror_mode": {
    "name": "ipython",
    "version": 3
   },
   "file_extension": ".py",
   "mimetype": "text/x-python",
   "name": "python",
   "nbconvert_exporter": "python",
   "pygments_lexer": "ipython3",
   "version": "3.8.5"
  }
 },
 "nbformat": 4,
 "nbformat_minor": 4
}
