{
 "cells": [
  {
   "cell_type": "markdown",
   "metadata": {},
   "source": [
    "### 1\n",
    "circumference of a circle = 2πr\n",
    "area of a circle = πr^2\n",
    "\n",
    "1. ask for circumference\n",
    "2. solve area\n",
    "3. display area"
   ]
  },
  {
   "cell_type": "code",
   "execution_count": 4,
   "metadata": {},
   "outputs": [],
   "source": [
    "def solve_area (circumference):\n",
    "    radius = circumference / (2*3.1416)\n",
    "    area = 3.1416 * (radius * radius)\n",
    "    return area"
   ]
  },
  {
   "cell_type": "code",
   "execution_count": 5,
   "metadata": {},
   "outputs": [
    {
     "name": "stdout",
     "output_type": "stream",
     "text": [
      "What is the circumference of a circle? 20\n",
      "The area is  31.830914183855363\n"
     ]
    }
   ],
   "source": [
    "# ask for circumference\n",
    "circumference = float(input(\"What is the circumference of a circle? \"))\n",
    "\n",
    "# solve area\n",
    "area = solve_area (circumference)\n",
    "\n",
    "# display area\n",
    "print(\"The area is \", area)"
   ]
  },
  {
   "cell_type": "markdown",
   "metadata": {},
   "source": [
    "### 2\n",
    "1. enter word\n",
    "2. count characters\n",
    "3. if not 5, cant reverse\n",
    "4. if 5, reverse\n",
    "5. display output"
   ]
  },
  {
   "cell_type": "code",
   "execution_count": 10,
   "metadata": {},
   "outputs": [],
   "source": [
    "def reverse_word (word):\n",
    "    reverse = word[::-1]\n",
    "    return reverse"
   ]
  },
  {
   "cell_type": "code",
   "execution_count": 14,
   "metadata": {},
   "outputs": [
    {
     "name": "stdout",
     "output_type": "stream",
     "text": [
      "Enter word: Hello\n",
      "olleH\n"
     ]
    }
   ],
   "source": [
    "# enter word\n",
    "word = str(input(\"Enter word: \"))\n",
    "\n",
    "# reverse the word\n",
    "if len(word) == 5:\n",
    "    reverse = reverse_word (word)\n",
    "    print(reverse)\n",
    "else:\n",
    "    print(\"This word cant be reversed\")"
   ]
  },
  {
   "cell_type": "markdown",
   "metadata": {},
   "source": [
    "### 3\n",
    "1. input number\n",
    "2. get list of positive number only then add"
   ]
  },
  {
   "cell_type": "code",
   "execution_count": 6,
   "metadata": {},
   "outputs": [],
   "source": [
    "def add_number (number):\n",
    "    range(1, number + 1, 1)\n",
    "    total = sum(range(1, number + 1, 1))\n",
    "    return total"
   ]
  },
  {
   "cell_type": "code",
   "execution_count": 9,
   "metadata": {},
   "outputs": [
    {
     "name": "stdout",
     "output_type": "stream",
     "text": [
      "Enter any positive value: 2\n",
      "The sum is  3\n"
     ]
    }
   ],
   "source": [
    "# input number\n",
    "number = int(input(\"Enter any positive value: \"))\n",
    "\n",
    "#get list of positive only then add\n",
    "if number > 0:\n",
    "    total = add_number (number)\n",
    "    print(\"The sum is \", total)\n",
    "else:\n",
    "    print(\"This is either zero or a negative number.\")"
   ]
  },
  {
   "cell_type": "markdown",
   "metadata": {},
   "source": [
    "### 4\n",
    "1. get list of all natural number\n",
    "2. get sum of squares\n",
    "3. get square of sum\n",
    "4. get difference"
   ]
  },
  {
   "cell_type": "code",
   "execution_count": 8,
   "metadata": {},
   "outputs": [],
   "source": [
    "def sum_square (number):\n",
    "    sumsquare = sum([i**2 for i in number])\n",
    "    return sumsquare\n",
    "    \n",
    "def square_sum (numbers):\n",
    "    squaresum = sum(number)*sum(number)\n",
    "    return squaresum"
   ]
  },
  {
   "cell_type": "code",
   "execution_count": 9,
   "metadata": {},
   "outputs": [
    {
     "name": "stdout",
     "output_type": "stream",
     "text": [
      "The answer is 25164150\n"
     ]
    }
   ],
   "source": [
    "# get all natural numbers from 1-100\n",
    "number = range(1,101)\n",
    "\n",
    "# get sum of squares\n",
    "sumsquare = sum_square (number)\n",
    "\n",
    "# get square of sum\n",
    "squaresum = square_sum (number)\n",
    "\n",
    "# get difference\n",
    "answer = squaresum-sumsquare\n",
    "\n",
    "print(\"The answer is\", answer)"
   ]
  },
  {
   "cell_type": "markdown",
   "metadata": {},
   "source": [
    "### 5\n",
    "1. input money\n",
    "2. get all one pesos possible\n",
    "3. get all twenty five cents possible\n",
    "4. get all ten cents possible\n",
    "5. get all five cents possible\n",
    "6. get all one cents possible\n",
    "7. display output"
   ]
  },
  {
   "cell_type": "code",
   "execution_count": 1,
   "metadata": {},
   "outputs": [],
   "source": [
    "def count_change (amount, denomination):\n",
    "    coin = amount // denomination\n",
    "    return coin"
   ]
  },
  {
   "cell_type": "code",
   "execution_count": 3,
   "metadata": {},
   "outputs": [
    {
     "name": "stdout",
     "output_type": "stream",
     "text": [
      "Input money: 105\n",
      "0\n",
      "0\n",
      "0\n",
      "0\n",
      "0\n"
     ]
    }
   ],
   "source": [
    "amount = int(input(\"Input money: \"))\n",
    "i = 100, 25, 10, 5, 1\n",
    "\n",
    "# 1 peso\n",
    "if i == 100 and  coin >=1:\n",
    "    print(int(coin))\n",
    "else:\n",
    "    print(\"0\")\n",
    "\n",
    "# 25 cents\n",
    "if i == 25 and  coin >=1:\n",
    "    print(int(coin))\n",
    "else:\n",
    "    print(\"0\")\n",
    "\n",
    "# 10 cents\n",
    "if i == 10 and  coin >=1:\n",
    "    print(int(coin))\n",
    "else:\n",
    "    print(\"0\")\n",
    "\n",
    "# 5 cents\n",
    "if i == 5 and  coin >=1:\n",
    "    print(int(coin))\n",
    "else:\n",
    "    print(\"0\")\n",
    "    \n",
    "# 1 cent\n",
    "if i == 1 and  coin >=1:\n",
    "    print(int(coin))\n",
    "else:\n",
    "    print(\"0\")"
   ]
  },
  {
   "cell_type": "code",
   "execution_count": null,
   "metadata": {},
   "outputs": [],
   "source": []
  }
 ],
 "metadata": {
  "kernelspec": {
   "display_name": "Python 3",
   "language": "python",
   "name": "python3"
  },
  "language_info": {
   "codemirror_mode": {
    "name": "ipython",
    "version": 3
   },
   "file_extension": ".py",
   "mimetype": "text/x-python",
   "name": "python",
   "nbconvert_exporter": "python",
   "pygments_lexer": "ipython3",
   "version": "3.8.5"
  }
 },
 "nbformat": 4,
 "nbformat_minor": 4
}
